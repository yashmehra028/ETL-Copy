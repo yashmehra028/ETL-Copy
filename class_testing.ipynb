{
 "cells": [
  {
   "cell_type": "code",
   "execution_count": 1,
   "metadata": {},
   "outputs": [],
   "source": [
    "%load_ext autoreload\n",
    "%autoreload 2\n",
    "\n",
    "from ETL import *\n",
    "from yahist import Hist1D\n",
    "\n",
    "from yahist.fit import fit_hist\n",
    "from yahist.utils import ignore_division_errors\n",
    "import scipy\n",
    "import os\n",
    "import mplhep as hep\n",
    "import numpy as np\n",
    "import matplotlib.pyplot as plt \n",
    "from matplotlib import style\n",
    "from yaml import load, dump\n",
    "try:\n",
    "    from yaml import CLoader as Loader, CDumper as Dumper\n",
    "except ImportError:\n",
    "    from yaml import Loader, Dumper\n",
    "style.use('seaborn-white')"
   ]
  },
  {
   "cell_type": "code",
   "execution_count": 2,
   "metadata": {},
   "outputs": [],
   "source": [
    "sens = Sensor2(height=21.4,width=21.6)\n",
    "sens.setActiveArea()"
   ]
  },
  {
   "cell_type": "code",
   "execution_count": 3,
   "metadata": {},
   "outputs": [
    {
     "data": {
      "text/plain": [
       "[[-10.7, 10.8], [10.7, 10.8], [10.7, -10.8], [-10.7, -10.8]]"
      ]
     },
     "execution_count": 3,
     "metadata": {},
     "output_type": "execute_result"
    }
   ],
   "source": [
    "sens.outline"
   ]
  },
  {
   "cell_type": "code",
   "execution_count": 4,
   "metadata": {},
   "outputs": [
    {
     "data": {
      "text/plain": [
       "[[-10.399999999999999, 10.5],\n",
       " [10.399999999999999, 10.5],\n",
       " [10.399999999999999, -10.3],\n",
       " [-10.399999999999999, -10.3]]"
      ]
     },
     "execution_count": 4,
     "metadata": {},
     "output_type": "execute_result"
    }
   ],
   "source": [
    "sens.activeArea"
   ]
  },
  {
   "cell_type": "code",
   "execution_count": 5,
   "metadata": {},
   "outputs": [],
   "source": [
    "sens.get_pixel_centers(m=16,n=16,gap=0.05)\n",
    "sens.getPixelsOutline()"
   ]
  },
  {
   "cell_type": "code",
   "execution_count": 6,
   "metadata": {},
   "outputs": [
    {
     "data": {
      "text/plain": [
       "dict_keys(['height', 'width', 'x', 'y', 'color', 'deadspace1', 'deadspace2', 'x1', 'x2', 'y1', 'y2', 'outline', 'ax1', 'ax2', 'ay1', 'ay2', 'activeArea', 'n_pixels', 'x_pixel_size', 'y_pixel_size', 'x0', 'y0', 'centers_new_system', 'centers_pixels', 'pixels'])"
      ]
     },
     "execution_count": 6,
     "metadata": {},
     "output_type": "execute_result"
    }
   ],
   "source": [
    "sens.__dict__.keys()"
   ]
  },
  {
   "cell_type": "code",
   "execution_count": 7,
   "metadata": {},
   "outputs": [
    {
     "data": {
      "text/plain": [
       "1.253125"
      ]
     },
     "execution_count": 7,
     "metadata": {},
     "output_type": "execute_result"
    }
   ],
   "source": [
    "sens.y_pixel_size"
   ]
  },
  {
   "cell_type": "code",
   "execution_count": 8,
   "metadata": {},
   "outputs": [
    {
     "data": {
      "text/plain": [
       "[<ETL.Pixel at 0x18b05078af0>,\n",
       " <ETL.Pixel at 0x18b04f80700>,\n",
       " <ETL.Pixel at 0x18b04f807f0>,\n",
       " <ETL.Pixel at 0x18b04f80340>,\n",
       " <ETL.Pixel at 0x18b04f808b0>,\n",
       " <ETL.Pixel at 0x18b04f80640>,\n",
       " <ETL.Pixel at 0x18b04f80400>,\n",
       " <ETL.Pixel at 0x18b04f80580>,\n",
       " <ETL.Pixel at 0x18b04f807c0>,\n",
       " <ETL.Pixel at 0x18b04f80af0>,\n",
       " <ETL.Pixel at 0x18b05047fa0>,\n",
       " <ETL.Pixel at 0x18b0506a940>,\n",
       " <ETL.Pixel at 0x18b0506a220>,\n",
       " <ETL.Pixel at 0x18b0505cd00>,\n",
       " <ETL.Pixel at 0x18b0505c6d0>,\n",
       " <ETL.Pixel at 0x18b0505c5e0>,\n",
       " <ETL.Pixel at 0x18b0505c2e0>,\n",
       " <ETL.Pixel at 0x18b0505c400>,\n",
       " <ETL.Pixel at 0x18b0505c670>,\n",
       " <ETL.Pixel at 0x18b0505c850>,\n",
       " <ETL.Pixel at 0x18b0505cc10>,\n",
       " <ETL.Pixel at 0x18b0505c7c0>,\n",
       " <ETL.Pixel at 0x18b0505c490>,\n",
       " <ETL.Pixel at 0x18b0505cf10>,\n",
       " <ETL.Pixel at 0x18b0505cee0>,\n",
       " <ETL.Pixel at 0x18b0505cfa0>,\n",
       " <ETL.Pixel at 0x18b0505c730>,\n",
       " <ETL.Pixel at 0x18b0505cc40>,\n",
       " <ETL.Pixel at 0x18b0505c4c0>,\n",
       " <ETL.Pixel at 0x18b0505c5b0>,\n",
       " <ETL.Pixel at 0x18b0505c190>,\n",
       " <ETL.Pixel at 0x18b0505c220>,\n",
       " <ETL.Pixel at 0x18b0505c820>,\n",
       " <ETL.Pixel at 0x18b0505ce80>,\n",
       " <ETL.Pixel at 0x18b0505c7f0>,\n",
       " <ETL.Pixel at 0x18b0505c3a0>,\n",
       " <ETL.Pixel at 0x18b0505c250>,\n",
       " <ETL.Pixel at 0x18b0505c3d0>,\n",
       " <ETL.Pixel at 0x18b0505c0d0>,\n",
       " <ETL.Pixel at 0x18b05d380d0>,\n",
       " <ETL.Pixel at 0x18b05d380a0>,\n",
       " <ETL.Pixel at 0x18b24df2700>,\n",
       " <ETL.Pixel at 0x18b24e08670>,\n",
       " <ETL.Pixel at 0x18b24e2ccd0>,\n",
       " <ETL.Pixel at 0x18b24e58580>,\n",
       " <ETL.Pixel at 0x18b24e58550>,\n",
       " <ETL.Pixel at 0x18b24e585b0>,\n",
       " <ETL.Pixel at 0x18b24e585e0>,\n",
       " <ETL.Pixel at 0x18b24e58610>,\n",
       " <ETL.Pixel at 0x18b24e58640>,\n",
       " <ETL.Pixel at 0x18b24e58670>,\n",
       " <ETL.Pixel at 0x18b24e586d0>,\n",
       " <ETL.Pixel at 0x18b24e586a0>,\n",
       " <ETL.Pixel at 0x18b24e58c10>,\n",
       " <ETL.Pixel at 0x18b24e58c40>,\n",
       " <ETL.Pixel at 0x18b24e58c70>,\n",
       " <ETL.Pixel at 0x18b24e58cd0>,\n",
       " <ETL.Pixel at 0x18b24e58ca0>,\n",
       " <ETL.Pixel at 0x18b24e58d00>,\n",
       " <ETL.Pixel at 0x18b24e58d30>,\n",
       " <ETL.Pixel at 0x18b24e58d60>,\n",
       " <ETL.Pixel at 0x18b24e58e20>,\n",
       " <ETL.Pixel at 0x18b24e58dc0>,\n",
       " <ETL.Pixel at 0x18b24e58d90>,\n",
       " <ETL.Pixel at 0x18b24e58e50>,\n",
       " <ETL.Pixel at 0x18b24e58e80>,\n",
       " <ETL.Pixel at 0x18b24e58eb0>,\n",
       " <ETL.Pixel at 0x18b24e58ee0>,\n",
       " <ETL.Pixel at 0x18b24e58f10>,\n",
       " <ETL.Pixel at 0x18b24e58f40>,\n",
       " <ETL.Pixel at 0x18b24e58f70>,\n",
       " <ETL.Pixel at 0x18b24e58fa0>,\n",
       " <ETL.Pixel at 0x18b24e58fd0>,\n",
       " <ETL.Pixel at 0x18b24e8c040>,\n",
       " <ETL.Pixel at 0x18b24e8c070>,\n",
       " <ETL.Pixel at 0x18b24e8c0a0>,\n",
       " <ETL.Pixel at 0x18b24e8c0d0>,\n",
       " <ETL.Pixel at 0x18b24e8c100>,\n",
       " <ETL.Pixel at 0x18b24e8c130>,\n",
       " <ETL.Pixel at 0x18b24e8c160>,\n",
       " <ETL.Pixel at 0x18b24e8c190>,\n",
       " <ETL.Pixel at 0x18b24e8c1c0>,\n",
       " <ETL.Pixel at 0x18b24e8c1f0>,\n",
       " <ETL.Pixel at 0x18b24e8c220>,\n",
       " <ETL.Pixel at 0x18b24e8c250>,\n",
       " <ETL.Pixel at 0x18b24e8c280>,\n",
       " <ETL.Pixel at 0x18b24e8c2b0>,\n",
       " <ETL.Pixel at 0x18b24e8c2e0>,\n",
       " <ETL.Pixel at 0x18b24e8c310>,\n",
       " <ETL.Pixel at 0x18b24e8c340>,\n",
       " <ETL.Pixel at 0x18b24e8c370>,\n",
       " <ETL.Pixel at 0x18b24e8c3a0>,\n",
       " <ETL.Pixel at 0x18b24e8c3d0>,\n",
       " <ETL.Pixel at 0x18b24e8c400>,\n",
       " <ETL.Pixel at 0x18b24e8c430>,\n",
       " <ETL.Pixel at 0x18b24e8c460>,\n",
       " <ETL.Pixel at 0x18b24e8c490>,\n",
       " <ETL.Pixel at 0x18b24e8c4c0>,\n",
       " <ETL.Pixel at 0x18b24e8c4f0>,\n",
       " <ETL.Pixel at 0x18b24e8c520>,\n",
       " <ETL.Pixel at 0x18b24e8c550>,\n",
       " <ETL.Pixel at 0x18b24e8c580>,\n",
       " <ETL.Pixel at 0x18b24e8c5b0>,\n",
       " <ETL.Pixel at 0x18b24e8c5e0>,\n",
       " <ETL.Pixel at 0x18b24e8c610>,\n",
       " <ETL.Pixel at 0x18b24e8c640>,\n",
       " <ETL.Pixel at 0x18b24e8c670>,\n",
       " <ETL.Pixel at 0x18b24e8c6a0>,\n",
       " <ETL.Pixel at 0x18b24e8c6d0>,\n",
       " <ETL.Pixel at 0x18b24e8c700>,\n",
       " <ETL.Pixel at 0x18b24e8c730>,\n",
       " <ETL.Pixel at 0x18b24e8c760>,\n",
       " <ETL.Pixel at 0x18b24e8c790>,\n",
       " <ETL.Pixel at 0x18b24e8c7c0>,\n",
       " <ETL.Pixel at 0x18b24e8c7f0>,\n",
       " <ETL.Pixel at 0x18b24e8c820>,\n",
       " <ETL.Pixel at 0x18b24e8c850>,\n",
       " <ETL.Pixel at 0x18b24e8c880>,\n",
       " <ETL.Pixel at 0x18b24e8c8b0>,\n",
       " <ETL.Pixel at 0x18b24e8c8e0>,\n",
       " <ETL.Pixel at 0x18b24e8c910>,\n",
       " <ETL.Pixel at 0x18b24e8c940>,\n",
       " <ETL.Pixel at 0x18b24e8c970>,\n",
       " <ETL.Pixel at 0x18b24e8c9a0>,\n",
       " <ETL.Pixel at 0x18b24e8c9d0>,\n",
       " <ETL.Pixel at 0x18b24e8ca00>,\n",
       " <ETL.Pixel at 0x18b24e8ca30>,\n",
       " <ETL.Pixel at 0x18b24e8ca60>,\n",
       " <ETL.Pixel at 0x18b24e8ca90>,\n",
       " <ETL.Pixel at 0x18b24e8cac0>,\n",
       " <ETL.Pixel at 0x18b24e8caf0>,\n",
       " <ETL.Pixel at 0x18b24e8cb20>,\n",
       " <ETL.Pixel at 0x18b24e8cb50>,\n",
       " <ETL.Pixel at 0x18b24e8cb80>,\n",
       " <ETL.Pixel at 0x18b24e8cbb0>,\n",
       " <ETL.Pixel at 0x18b24e8cbe0>,\n",
       " <ETL.Pixel at 0x18b24e8cc10>,\n",
       " <ETL.Pixel at 0x18b24e8cc40>,\n",
       " <ETL.Pixel at 0x18b24e8cc70>,\n",
       " <ETL.Pixel at 0x18b24e8cca0>,\n",
       " <ETL.Pixel at 0x18b24e8ccd0>,\n",
       " <ETL.Pixel at 0x18b24e8cd00>,\n",
       " <ETL.Pixel at 0x18b24e8cd30>,\n",
       " <ETL.Pixel at 0x18b24e8cd60>,\n",
       " <ETL.Pixel at 0x18b24e8cd90>,\n",
       " <ETL.Pixel at 0x18b24e8cdc0>,\n",
       " <ETL.Pixel at 0x18b24e8cdf0>,\n",
       " <ETL.Pixel at 0x18b24e8ce20>,\n",
       " <ETL.Pixel at 0x18b24e8ce50>,\n",
       " <ETL.Pixel at 0x18b24e8ce80>,\n",
       " <ETL.Pixel at 0x18b24e8ceb0>,\n",
       " <ETL.Pixel at 0x18b24e8cee0>,\n",
       " <ETL.Pixel at 0x18b24e8cf10>,\n",
       " <ETL.Pixel at 0x18b24e8cf40>,\n",
       " <ETL.Pixel at 0x18b24e8cf70>,\n",
       " <ETL.Pixel at 0x18b24e8cfa0>,\n",
       " <ETL.Pixel at 0x18b24e8cfd0>,\n",
       " <ETL.Pixel at 0x18b24eaa040>,\n",
       " <ETL.Pixel at 0x18b24eaa070>,\n",
       " <ETL.Pixel at 0x18b24eaa0a0>,\n",
       " <ETL.Pixel at 0x18b24eaa0d0>,\n",
       " <ETL.Pixel at 0x18b24eaa100>,\n",
       " <ETL.Pixel at 0x18b24eaa130>,\n",
       " <ETL.Pixel at 0x18b24eaa160>,\n",
       " <ETL.Pixel at 0x18b24eaa190>,\n",
       " <ETL.Pixel at 0x18b24eaa1c0>,\n",
       " <ETL.Pixel at 0x18b24eaa1f0>,\n",
       " <ETL.Pixel at 0x18b24eaa220>,\n",
       " <ETL.Pixel at 0x18b24eaa250>,\n",
       " <ETL.Pixel at 0x18b24eaa280>,\n",
       " <ETL.Pixel at 0x18b24eaa2b0>,\n",
       " <ETL.Pixel at 0x18b24eaa2e0>,\n",
       " <ETL.Pixel at 0x18b24eaa310>,\n",
       " <ETL.Pixel at 0x18b24eaa340>,\n",
       " <ETL.Pixel at 0x18b24eaa370>,\n",
       " <ETL.Pixel at 0x18b24eaa3a0>,\n",
       " <ETL.Pixel at 0x18b24eaa3d0>,\n",
       " <ETL.Pixel at 0x18b24eaa400>,\n",
       " <ETL.Pixel at 0x18b24eaa430>,\n",
       " <ETL.Pixel at 0x18b24eaa460>,\n",
       " <ETL.Pixel at 0x18b24eaa490>,\n",
       " <ETL.Pixel at 0x18b24eaa4c0>,\n",
       " <ETL.Pixel at 0x18b24eaa4f0>,\n",
       " <ETL.Pixel at 0x18b24eaa520>,\n",
       " <ETL.Pixel at 0x18b24eaa550>,\n",
       " <ETL.Pixel at 0x18b24eaa580>,\n",
       " <ETL.Pixel at 0x18b24eaa5b0>,\n",
       " <ETL.Pixel at 0x18b24eaa5e0>,\n",
       " <ETL.Pixel at 0x18b24eaa610>,\n",
       " <ETL.Pixel at 0x18b24eaa640>,\n",
       " <ETL.Pixel at 0x18b24eaa670>,\n",
       " <ETL.Pixel at 0x18b24eaa6a0>,\n",
       " <ETL.Pixel at 0x18b24eaa6d0>,\n",
       " <ETL.Pixel at 0x18b24eaa700>,\n",
       " <ETL.Pixel at 0x18b24eaa730>,\n",
       " <ETL.Pixel at 0x18b24eaa760>,\n",
       " <ETL.Pixel at 0x18b24eaa790>,\n",
       " <ETL.Pixel at 0x18b24eaa7c0>,\n",
       " <ETL.Pixel at 0x18b24eaa7f0>,\n",
       " <ETL.Pixel at 0x18b24eaa820>,\n",
       " <ETL.Pixel at 0x18b24eaa850>,\n",
       " <ETL.Pixel at 0x18b24eaa880>,\n",
       " <ETL.Pixel at 0x18b24eaa8b0>,\n",
       " <ETL.Pixel at 0x18b24eaa8e0>,\n",
       " <ETL.Pixel at 0x18b24eaa910>,\n",
       " <ETL.Pixel at 0x18b24eaa940>,\n",
       " <ETL.Pixel at 0x18b24eaa970>,\n",
       " <ETL.Pixel at 0x18b24eaa9a0>,\n",
       " <ETL.Pixel at 0x18b24eaa9d0>,\n",
       " <ETL.Pixel at 0x18b24eaaa00>,\n",
       " <ETL.Pixel at 0x18b24eaaa30>,\n",
       " <ETL.Pixel at 0x18b24eaaa60>,\n",
       " <ETL.Pixel at 0x18b24eaaa90>,\n",
       " <ETL.Pixel at 0x18b24eaaac0>,\n",
       " <ETL.Pixel at 0x18b24eaaaf0>,\n",
       " <ETL.Pixel at 0x18b24eaab20>,\n",
       " <ETL.Pixel at 0x18b24eaab50>,\n",
       " <ETL.Pixel at 0x18b24eaab80>,\n",
       " <ETL.Pixel at 0x18b24eaabb0>,\n",
       " <ETL.Pixel at 0x18b24eaabe0>,\n",
       " <ETL.Pixel at 0x18b24eaac10>,\n",
       " <ETL.Pixel at 0x18b24eaac40>,\n",
       " <ETL.Pixel at 0x18b24eaac70>,\n",
       " <ETL.Pixel at 0x18b24eaaca0>,\n",
       " <ETL.Pixel at 0x18b24eaacd0>,\n",
       " <ETL.Pixel at 0x18b24eaad00>,\n",
       " <ETL.Pixel at 0x18b24eaad30>,\n",
       " <ETL.Pixel at 0x18b24eaad60>,\n",
       " <ETL.Pixel at 0x18b24eaad90>,\n",
       " <ETL.Pixel at 0x18b24eaadc0>,\n",
       " <ETL.Pixel at 0x18b24eaadf0>,\n",
       " <ETL.Pixel at 0x18b24eaae20>,\n",
       " <ETL.Pixel at 0x18b24eaae50>,\n",
       " <ETL.Pixel at 0x18b24eaae80>,\n",
       " <ETL.Pixel at 0x18b24eaaeb0>,\n",
       " <ETL.Pixel at 0x18b24eaaee0>,\n",
       " <ETL.Pixel at 0x18b24eaaf10>,\n",
       " <ETL.Pixel at 0x18b24eaaf40>,\n",
       " <ETL.Pixel at 0x18b24eaaf70>,\n",
       " <ETL.Pixel at 0x18b24eaafa0>,\n",
       " <ETL.Pixel at 0x18b24eaafd0>,\n",
       " <ETL.Pixel at 0x18b24eb8040>,\n",
       " <ETL.Pixel at 0x18b24eb8070>,\n",
       " <ETL.Pixel at 0x18b24eb80a0>,\n",
       " <ETL.Pixel at 0x18b24eb80d0>,\n",
       " <ETL.Pixel at 0x18b24eb8100>,\n",
       " <ETL.Pixel at 0x18b24eb8130>,\n",
       " <ETL.Pixel at 0x18b24eb8160>,\n",
       " <ETL.Pixel at 0x18b24eb8190>,\n",
       " <ETL.Pixel at 0x18b24eb81c0>,\n",
       " <ETL.Pixel at 0x18b24eb81f0>,\n",
       " <ETL.Pixel at 0x18b24eb8220>,\n",
       " <ETL.Pixel at 0x18b24eb8250>,\n",
       " <ETL.Pixel at 0x18b24eb8280>,\n",
       " <ETL.Pixel at 0x18b24eb82b0>,\n",
       " <ETL.Pixel at 0x18b24eb82e0>]"
      ]
     },
     "execution_count": 8,
     "metadata": {},
     "output_type": "execute_result"
    }
   ],
   "source": [
    "sens.pixels"
   ]
  },
  {
   "cell_type": "code",
   "execution_count": 9,
   "metadata": {},
   "outputs": [
    {
     "name": "stderr",
     "output_type": "stream",
     "text": [
      "c:\\Users\\ymehr\\OneDrive\\Desktop\\golf project\\ETL-SH-Design-1\\ETL.py:65: UserWarning: Setting the 'color' property will override the edgecolor or facecolor properties.\n",
      "  return plt.Polygon(self.outline, color='blue', closed=True, edgecolor='black', alpha=0.6)\n"
     ]
    },
    {
     "data": {
      "image/png": "[encoded data removed]",
      "text/plain": [
       "<Figure size 720x720 with 1 Axes>"
      ]
     },
     "metadata": {},
     "output_type": "display_data"
    }
   ],
   "source": [
    "plt.rcParams['figure.figsize'] = [10, 10]\n",
    "pm = sens.getPolygon()\n",
    "plt.gca().add_patch(pm)\n",
    "\n",
    "for pix in sens.pixels:\n",
    "    plt.gca().add_patch(pix.getPolygon())\n",
    "\n",
    "plt.axis('scaled')\n",
    "plt.savefig('sensor.png')"
   ]
  },
  {
   "cell_type": "code",
   "execution_count": 10,
   "metadata": {},
   "outputs": [
    {
     "data": {
      "text/plain": [
       "30.075"
      ]
     },
     "execution_count": 10,
     "metadata": {},
     "output_type": "execute_result"
    }
   ],
   "source": [
    "(16-1)*0.05*sens.y_pixel_size*16 + (16-1)*0.05*sens.x_pixel_size*16"
   ]
  },
  {
   "cell_type": "code",
   "execution_count": 11,
   "metadata": {},
   "outputs": [
    {
     "data": {
      "text/plain": [
       "0.9314914645103324"
      ]
     },
     "execution_count": 11,
     "metadata": {},
     "output_type": "execute_result"
    }
   ],
   "source": [
    "(445.2-30.5)/445.2"
   ]
  },
  {
   "cell_type": "code",
   "execution_count": 12,
   "metadata": {},
   "outputs": [
    {
     "data": {
      "text/plain": [
       "0.945778298306114"
      ]
     },
     "execution_count": 12,
     "metadata": {},
     "output_type": "execute_result"
    }
   ],
   "source": [
    "(922.14-50)/922.14"
   ]
  },
  {
   "cell_type": "code",
   "execution_count": 14,
   "metadata": {},
   "outputs": [],
   "source": [
    "with open('new_layouts/database_new_filled.yaml') as f:\n",
    "    database_new = load(f, Loader=Loader)\n",
    "\n",
    "disk_new = database_new['new'] "
   ]
  },
  {
   "cell_type": "code",
   "execution_count": 15,
   "metadata": {},
   "outputs": [],
   "source": [
    "s = Sensor2(21.4, 21.6)\n",
    "\n",
    "dee = Dee(315, 1185)\n",
    "dee.fromCenters2(disk_new['disk1']['front'], s, 16, 16, 0.05)"
   ]
  },
  {
   "cell_type": "code",
   "execution_count": 17,
   "metadata": {},
   "outputs": [
    {
     "name": "stderr",
     "output_type": "stream",
     "text": [
      "c:\\Users\\ymehr\\OneDrive\\Desktop\\golf project\\ETL-SH-Design-1\\ETL.py:65: UserWarning: Setting the 'color' property will override the edgecolor or facecolor properties.\n",
      "  return plt.Polygon(self.outline, color='blue', closed=True, edgecolor='black', alpha=0.6)\n"
     ]
    },
    {
     "data": {
      "image/png": "[encoded data removed]",
      "text/plain": [
       "<Figure size 1152x1152 with 1 Axes>"
      ]
     },
     "metadata": {},
     "output_type": "display_data"
    }
   ],
   "source": [
    "plt.rcParams['figure.figsize'] = [16, 16]\n",
    "\n",
    "i = 0\n",
    "for sen in dee.sensors:\n",
    "    pm = sen.getPolygon()\n",
    "    plt.gca().add_patch(pm)\n",
    "\n",
    "    for pix in sen.pixels:\n",
    "        plt.gca().add_patch(pix.getPolygon())\n",
    "    \n",
    "    i += 1\n",
    "    if i == 10:\n",
    "        break\n",
    "\n",
    "plt.axis('scaled')\n",
    "plt.savefig('a')"
   ]
  },
  {
   "cell_type": "code",
   "execution_count": null,
   "metadata": {},
   "outputs": [],
   "source": [
    "from tqdm import tqdm as loader"
   ]
  },
  {
   "cell_type": "code",
   "execution_count": null,
   "metadata": {},
   "outputs": [
    {
     "name": "stderr",
     "output_type": "stream",
     "text": [
      "100%|██████████| 10/10 [00:00<00:00, 5003.94it/s]"
     ]
    },
    {
     "name": "stdout",
     "output_type": "stream",
     "text": [
      "0\n",
      "1\n",
      "2\n",
      "3\n",
      "4\n",
      "5\n",
      "6\n",
      "7\n",
      "8\n",
      "9\n"
     ]
    },
    {
     "name": "stderr",
     "output_type": "stream",
     "text": [
      "\n"
     ]
    }
   ],
   "source": [
    "for i in loader(range(10)):\n",
    "    print(i)"
   ]
  },
  {
   "cell_type": "code",
   "execution_count": null,
   "metadata": {},
   "outputs": [],
   "source": []
  }
 ],
 "metadata": {
  "interpreter": {
   "hash": "157570db7612c75920024a12f929726d05ab55e81c8d1bb30660f905a6f4d21f"
  },
  "kernelspec": {
   "display_name": "Python 3.9.4 64-bit",
   "language": "python",
   "name": "python3"
  },
  "language_info": {
   "codemirror_mode": {
    "name": "ipython",
    "version": 3
   },
   "file_extension": ".py",
   "mimetype": "text/x-python",
   "name": "python",
   "nbconvert_exporter": "python",
   "pygments_lexer": "ipython3",
   "version": "3.9.4"
  },
  "orig_nbformat": 4
 },
 "nbformat": 4,
 "nbformat_minor": 2
}

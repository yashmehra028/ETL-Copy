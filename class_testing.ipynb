{
 "cells": [
  {
   "cell_type": "code",
   "execution_count": 84,
   "metadata": {},
   "outputs": [],
   "source": [
    "from ETL import *"
   ]
  },
  {
   "cell_type": "code",
   "execution_count": 85,
   "metadata": {},
   "outputs": [],
   "source": [
    "sens = Sensor(height=10,width=10,x=1,y=1,deadspace=1)\n",
    "sens.setActiveArea()"
   ]
  },
  {
   "cell_type": "code",
   "execution_count": 86,
   "metadata": {},
   "outputs": [
    {
     "data": {
      "text/plain": [
       "[[-4.0, 6.0], [6.0, 6.0], [6.0, -4.0], [-4.0, -4.0]]"
      ]
     },
     "execution_count": 86,
     "metadata": {},
     "output_type": "execute_result"
    }
   ],
   "source": [
    "sens.outline"
   ]
  },
  {
   "cell_type": "code",
   "execution_count": 87,
   "metadata": {},
   "outputs": [
    {
     "data": {
      "text/plain": [
       "[[-3.0, 5.0], [5.0, 5.0], [5.0, -3.0], [-3.0, -3.0]]"
      ]
     },
     "execution_count": 87,
     "metadata": {},
     "output_type": "execute_result"
    }
   ],
   "source": [
    "sens.activeArea"
   ]
  },
  {
   "cell_type": "code",
   "execution_count": 88,
   "metadata": {},
   "outputs": [],
   "source": [
    "sens.Active_area_pixels(m=2,n=2,gap=2)"
   ]
  },
  {
   "cell_type": "code",
   "execution_count": 89,
   "metadata": {},
   "outputs": [
    {
     "data": {
      "text/plain": [
       "{'height': 10,\n",
       " 'width': 10,\n",
       " 'x': 1,\n",
       " 'y': 1,\n",
       " 'color': 'orange',\n",
       " 'deadspace': 1,\n",
       " 'x1': -4.0,\n",
       " 'x2': 6.0,\n",
       " 'y1': -4.0,\n",
       " 'y2': 6.0,\n",
       " 'outline': [[-4.0, 6.0], [6.0, 6.0], [6.0, -4.0], [-4.0, -4.0]],\n",
       " 'ax1': -3.0,\n",
       " 'ax2': 5.0,\n",
       " 'ay1': -3.0,\n",
       " 'ay2': 5.0,\n",
       " 'activeArea': [[-3.0, 5.0], [5.0, 5.0], [5.0, -3.0], [-3.0, -3.0]],\n",
       " 'n_pixels': 4,\n",
       " 'activeArea2': [],\n",
       " 'centers_pixels': []}"
      ]
     },
     "execution_count": 89,
     "metadata": {},
     "output_type": "execute_result"
    }
   ],
   "source": [
    "sens.__dict__"
   ]
  },
  {
   "cell_type": "code",
   "execution_count": 90,
   "metadata": {},
   "outputs": [
    {
     "data": {
      "text/plain": [
       "1.0"
      ]
     },
     "execution_count": 90,
     "metadata": {},
     "output_type": "execute_result"
    }
   ],
   "source": [
    "(abs(sens.ax2-sens.ax1)-(2+1)*2)/2"
   ]
  },
  {
   "cell_type": "code",
   "execution_count": 91,
   "metadata": {},
   "outputs": [
    {
     "data": {
      "text/plain": [
       "5.0"
      ]
     },
     "execution_count": 91,
     "metadata": {},
     "output_type": "execute_result"
    }
   ],
   "source": [
    "sens.x + abs(sens.ax1-sens.ax2)*0.5"
   ]
  },
  {
   "cell_type": "code",
   "execution_count": 92,
   "metadata": {},
   "outputs": [
    {
     "data": {
      "text/plain": [
       "-3.0"
      ]
     },
     "execution_count": 92,
     "metadata": {},
     "output_type": "execute_result"
    }
   ],
   "source": [
    "sens.y - abs(sens.ay1-sens.ay2)*0.5"
   ]
  },
  {
   "cell_type": "code",
   "execution_count": null,
   "metadata": {},
   "outputs": [],
   "source": []
  }
 ],
 "metadata": {
  "interpreter": {
   "hash": "157570db7612c75920024a12f929726d05ab55e81c8d1bb30660f905a6f4d21f"
  },
  "kernelspec": {
   "display_name": "Python 3.9.4 64-bit",
   "language": "python",
   "name": "python3"
  },
  "language_info": {
   "codemirror_mode": {
    "name": "ipython",
    "version": 3
   },
   "file_extension": ".py",
   "mimetype": "text/x-python",
   "name": "python",
   "nbconvert_exporter": "python",
   "pygments_lexer": "ipython3",
   "version": "3.9.4"
  },
  "orig_nbformat": 4
 },
 "nbformat": 4,
 "nbformat_minor": 2
}
